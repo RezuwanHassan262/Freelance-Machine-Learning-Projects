{
  "nbformat": 4,
  "nbformat_minor": 0,
  "metadata": {
    "colab": {
      "provenance": []
    },
    "kernelspec": {
      "name": "python3",
      "display_name": "Python 3"
    },
    "language_info": {
      "name": "python"
    }
  },
  "cells": [
    {
      "cell_type": "markdown",
      "metadata": {
        "id": "8L1tolDfC1_H"
      },
      "source": [
        "## **Step 1 - Importing the necessary libraries**\n",
        "\n"
      ]
    },
    {
      "cell_type": "code",
      "metadata": {
        "id": "exsASQVw77W-"
      },
      "source": [
        "# Import libraries for data manipulation\n",
        "import pandas as pd\n",
        "import numpy as np\n",
        "\n",
        "# Import libraries for data visualization\n",
        "import seaborn as sns\n",
        "import matplotlib.pyplot as plt"
      ],
      "execution_count": 2,
      "outputs": []
    },
    {
      "cell_type": "markdown",
      "metadata": {
        "id": "n9gAq56wDcZV"
      },
      "source": [
        "## **Step 2 - Import the Data-set**\n"
      ]
    },
    {
      "cell_type": "code",
      "metadata": {
        "id": "KQmnAy6vRzCu"
      },
      "source": [
        "#STEP-1: Import Libraries\n",
        "!pip install -U -q PyDrive\n",
        "from pydrive.auth import GoogleAuth\n",
        "from pydrive.drive import GoogleDrive\n",
        "from google.colab import auth\n",
        "from oauth2client.client import GoogleCredentials\n",
        "#STEP-2: Autheticate E-Mail ID\n",
        "auth.authenticate_user()\n",
        "gauth = GoogleAuth()\n",
        "gauth.credentials = GoogleCredentials.get_application_default()\n",
        "drive = GoogleDrive(gauth)\n",
        "#STEP-3: Get File from Drive using file-ID\n",
        "downloaded = drive.CreateFile({'id':'1bMPJVKzLKQbV_T7U3Tg1eGw-XC0TLTXf'}) # replace the id with id of file you want to access\n",
        "downloaded.GetContentFile('Netflix Dataset.csv')"
      ],
      "execution_count": 3,
      "outputs": []
    },
    {
      "cell_type": "code",
      "metadata": {
        "colab": {
          "base_uri": "https://localhost:8080/",
          "height": 432
        },
        "id": "6beLkFJS7-A0",
        "outputId": "c04b4027-e512-4b2f-8382-0bdfddda47fd"
      },
      "source": [
        "# store dataset into a pandas dataframe\n",
        "df = pd.read_csv(\"Netflix Dataset.csv\")\n",
        "\n",
        "# display the initial rows of the dataset\n",
        "df.head()"
      ],
      "execution_count": 4,
      "outputs": [
        {
          "output_type": "execute_result",
          "data": {
            "text/plain": [
              "  show_id     type                          title             director  \\\n",
              "0      s8    Movie                        Sankofa         Haile Gerima   \n",
              "1      s9  TV Show  The Great British Baking Show      Andy Devonshire   \n",
              "2     s10    Movie                   The Starling       Theodore Melfi   \n",
              "3     s13    Movie                   Je Suis Karl  Christian Schwochow   \n",
              "4     s25    Movie                          Jeans           S. Shankar   \n",
              "\n",
              "                                                cast  \\\n",
              "0  Kofi Ghanaba, Oyafunmike Ogunlano, Alexandra D...   \n",
              "1  Mel Giedroyc, Sue Perkins, Mary Berry, Paul Ho...   \n",
              "2  Melissa McCarthy, Chris O'Dowd, Kevin Kline, T...   \n",
              "3  Luna Wedler, Jannis Niewöhner, Milan Peschel, ...   \n",
              "4  Prashanth, Aishwarya Rai Bachchan, Sri Lakshmi...   \n",
              "\n",
              "                                             country          date_added  \\\n",
              "0  United States, Ghana, Burkina Faso, United Kin...  September 24, 2021   \n",
              "1                                     United Kingdom  September 24, 2021   \n",
              "2                                      United States  September 24, 2021   \n",
              "3                            Germany, Czech Republic  September 23, 2021   \n",
              "4                                              India  September 21, 2021   \n",
              "\n",
              "   release_year rating   duration  \\\n",
              "0          1993  TV-MA    125 min   \n",
              "1          2021  TV-14  9 Seasons   \n",
              "2          2021  PG-13    104 min   \n",
              "3          2021  TV-MA    127 min   \n",
              "4          1998  TV-14    166 min   \n",
              "\n",
              "                                          listed_in  \\\n",
              "0  Dramas, Independent Movies, International Movies   \n",
              "1                      British TV Shows, Reality TV   \n",
              "2                                  Comedies, Dramas   \n",
              "3                      Dramas, International Movies   \n",
              "4   Comedies, International Movies, Romantic Movies   \n",
              "\n",
              "                                         description  \n",
              "0  On a photo shoot in Ghana, an American model s...  \n",
              "1  A talented batch of amateur bakers face off in...  \n",
              "2  A woman adjusting to life after a loss contend...  \n",
              "3  After most of her family is murdered in a terr...  \n",
              "4  When the father of the man she loves insists t...  "
            ],
            "text/html": [
              "\n",
              "  <div id=\"df-d86d0875-f3a4-4da7-ae51-ed6440724dc5\">\n",
              "    <div class=\"colab-df-container\">\n",
              "      <div>\n",
              "<style scoped>\n",
              "    .dataframe tbody tr th:only-of-type {\n",
              "        vertical-align: middle;\n",
              "    }\n",
              "\n",
              "    .dataframe tbody tr th {\n",
              "        vertical-align: top;\n",
              "    }\n",
              "\n",
              "    .dataframe thead th {\n",
              "        text-align: right;\n",
              "    }\n",
              "</style>\n",
              "<table border=\"1\" class=\"dataframe\">\n",
              "  <thead>\n",
              "    <tr style=\"text-align: right;\">\n",
              "      <th></th>\n",
              "      <th>show_id</th>\n",
              "      <th>type</th>\n",
              "      <th>title</th>\n",
              "      <th>director</th>\n",
              "      <th>cast</th>\n",
              "      <th>country</th>\n",
              "      <th>date_added</th>\n",
              "      <th>release_year</th>\n",
              "      <th>rating</th>\n",
              "      <th>duration</th>\n",
              "      <th>listed_in</th>\n",
              "      <th>description</th>\n",
              "    </tr>\n",
              "  </thead>\n",
              "  <tbody>\n",
              "    <tr>\n",
              "      <th>0</th>\n",
              "      <td>s8</td>\n",
              "      <td>Movie</td>\n",
              "      <td>Sankofa</td>\n",
              "      <td>Haile Gerima</td>\n",
              "      <td>Kofi Ghanaba, Oyafunmike Ogunlano, Alexandra D...</td>\n",
              "      <td>United States, Ghana, Burkina Faso, United Kin...</td>\n",
              "      <td>September 24, 2021</td>\n",
              "      <td>1993</td>\n",
              "      <td>TV-MA</td>\n",
              "      <td>125 min</td>\n",
              "      <td>Dramas, Independent Movies, International Movies</td>\n",
              "      <td>On a photo shoot in Ghana, an American model s...</td>\n",
              "    </tr>\n",
              "    <tr>\n",
              "      <th>1</th>\n",
              "      <td>s9</td>\n",
              "      <td>TV Show</td>\n",
              "      <td>The Great British Baking Show</td>\n",
              "      <td>Andy Devonshire</td>\n",
              "      <td>Mel Giedroyc, Sue Perkins, Mary Berry, Paul Ho...</td>\n",
              "      <td>United Kingdom</td>\n",
              "      <td>September 24, 2021</td>\n",
              "      <td>2021</td>\n",
              "      <td>TV-14</td>\n",
              "      <td>9 Seasons</td>\n",
              "      <td>British TV Shows, Reality TV</td>\n",
              "      <td>A talented batch of amateur bakers face off in...</td>\n",
              "    </tr>\n",
              "    <tr>\n",
              "      <th>2</th>\n",
              "      <td>s10</td>\n",
              "      <td>Movie</td>\n",
              "      <td>The Starling</td>\n",
              "      <td>Theodore Melfi</td>\n",
              "      <td>Melissa McCarthy, Chris O'Dowd, Kevin Kline, T...</td>\n",
              "      <td>United States</td>\n",
              "      <td>September 24, 2021</td>\n",
              "      <td>2021</td>\n",
              "      <td>PG-13</td>\n",
              "      <td>104 min</td>\n",
              "      <td>Comedies, Dramas</td>\n",
              "      <td>A woman adjusting to life after a loss contend...</td>\n",
              "    </tr>\n",
              "    <tr>\n",
              "      <th>3</th>\n",
              "      <td>s13</td>\n",
              "      <td>Movie</td>\n",
              "      <td>Je Suis Karl</td>\n",
              "      <td>Christian Schwochow</td>\n",
              "      <td>Luna Wedler, Jannis Niewöhner, Milan Peschel, ...</td>\n",
              "      <td>Germany, Czech Republic</td>\n",
              "      <td>September 23, 2021</td>\n",
              "      <td>2021</td>\n",
              "      <td>TV-MA</td>\n",
              "      <td>127 min</td>\n",
              "      <td>Dramas, International Movies</td>\n",
              "      <td>After most of her family is murdered in a terr...</td>\n",
              "    </tr>\n",
              "    <tr>\n",
              "      <th>4</th>\n",
              "      <td>s25</td>\n",
              "      <td>Movie</td>\n",
              "      <td>Jeans</td>\n",
              "      <td>S. Shankar</td>\n",
              "      <td>Prashanth, Aishwarya Rai Bachchan, Sri Lakshmi...</td>\n",
              "      <td>India</td>\n",
              "      <td>September 21, 2021</td>\n",
              "      <td>1998</td>\n",
              "      <td>TV-14</td>\n",
              "      <td>166 min</td>\n",
              "      <td>Comedies, International Movies, Romantic Movies</td>\n",
              "      <td>When the father of the man she loves insists t...</td>\n",
              "    </tr>\n",
              "  </tbody>\n",
              "</table>\n",
              "</div>\n",
              "      <button class=\"colab-df-convert\" onclick=\"convertToInteractive('df-d86d0875-f3a4-4da7-ae51-ed6440724dc5')\"\n",
              "              title=\"Convert this dataframe to an interactive table.\"\n",
              "              style=\"display:none;\">\n",
              "        \n",
              "  <svg xmlns=\"http://www.w3.org/2000/svg\" height=\"24px\"viewBox=\"0 0 24 24\"\n",
              "       width=\"24px\">\n",
              "    <path d=\"M0 0h24v24H0V0z\" fill=\"none\"/>\n",
              "    <path d=\"M18.56 5.44l.94 2.06.94-2.06 2.06-.94-2.06-.94-.94-2.06-.94 2.06-2.06.94zm-11 1L8.5 8.5l.94-2.06 2.06-.94-2.06-.94L8.5 2.5l-.94 2.06-2.06.94zm10 10l.94 2.06.94-2.06 2.06-.94-2.06-.94-.94-2.06-.94 2.06-2.06.94z\"/><path d=\"M17.41 7.96l-1.37-1.37c-.4-.4-.92-.59-1.43-.59-.52 0-1.04.2-1.43.59L10.3 9.45l-7.72 7.72c-.78.78-.78 2.05 0 2.83L4 21.41c.39.39.9.59 1.41.59.51 0 1.02-.2 1.41-.59l7.78-7.78 2.81-2.81c.8-.78.8-2.07 0-2.86zM5.41 20L4 18.59l7.72-7.72 1.47 1.35L5.41 20z\"/>\n",
              "  </svg>\n",
              "      </button>\n",
              "      \n",
              "  <style>\n",
              "    .colab-df-container {\n",
              "      display:flex;\n",
              "      flex-wrap:wrap;\n",
              "      gap: 12px;\n",
              "    }\n",
              "\n",
              "    .colab-df-convert {\n",
              "      background-color: #E8F0FE;\n",
              "      border: none;\n",
              "      border-radius: 50%;\n",
              "      cursor: pointer;\n",
              "      display: none;\n",
              "      fill: #1967D2;\n",
              "      height: 32px;\n",
              "      padding: 0 0 0 0;\n",
              "      width: 32px;\n",
              "    }\n",
              "\n",
              "    .colab-df-convert:hover {\n",
              "      background-color: #E2EBFA;\n",
              "      box-shadow: 0px 1px 2px rgba(60, 64, 67, 0.3), 0px 1px 3px 1px rgba(60, 64, 67, 0.15);\n",
              "      fill: #174EA6;\n",
              "    }\n",
              "\n",
              "    [theme=dark] .colab-df-convert {\n",
              "      background-color: #3B4455;\n",
              "      fill: #D2E3FC;\n",
              "    }\n",
              "\n",
              "    [theme=dark] .colab-df-convert:hover {\n",
              "      background-color: #434B5C;\n",
              "      box-shadow: 0px 1px 3px 1px rgba(0, 0, 0, 0.15);\n",
              "      filter: drop-shadow(0px 1px 2px rgba(0, 0, 0, 0.3));\n",
              "      fill: #FFFFFF;\n",
              "    }\n",
              "  </style>\n",
              "\n",
              "      <script>\n",
              "        const buttonEl =\n",
              "          document.querySelector('#df-d86d0875-f3a4-4da7-ae51-ed6440724dc5 button.colab-df-convert');\n",
              "        buttonEl.style.display =\n",
              "          google.colab.kernel.accessAllowed ? 'block' : 'none';\n",
              "\n",
              "        async function convertToInteractive(key) {\n",
              "          const element = document.querySelector('#df-d86d0875-f3a4-4da7-ae51-ed6440724dc5');\n",
              "          const dataTable =\n",
              "            await google.colab.kernel.invokeFunction('convertToInteractive',\n",
              "                                                     [key], {});\n",
              "          if (!dataTable) return;\n",
              "\n",
              "          const docLinkHtml = 'Like what you see? Visit the ' +\n",
              "            '<a target=\"_blank\" href=https://colab.research.google.com/notebooks/data_table.ipynb>data table notebook</a>'\n",
              "            + ' to learn more about interactive tables.';\n",
              "          element.innerHTML = '';\n",
              "          dataTable['output_type'] = 'display_data';\n",
              "          await google.colab.output.renderOutput(dataTable, element);\n",
              "          const docLink = document.createElement('div');\n",
              "          docLink.innerHTML = docLinkHtml;\n",
              "          element.appendChild(docLink);\n",
              "        }\n",
              "      </script>\n",
              "    </div>\n",
              "  </div>\n",
              "  "
            ]
          },
          "metadata": {},
          "execution_count": 4
        }
      ]
    },
    {
      "cell_type": "markdown",
      "metadata": {
        "id": "PxB7HS4eDrTx"
      },
      "source": [
        "### **Check the shape (rows and coloumns) of the Data-set**"
      ]
    },
    {
      "cell_type": "code",
      "metadata": {
        "colab": {
          "base_uri": "https://localhost:8080/"
        },
        "id": "K2DUdqdF8WPM",
        "outputId": "6e2a0f11-9121-4c09-e23e-037ebcba7415"
      },
      "source": [
        "# check shape\n",
        "df.shape"
      ],
      "execution_count": 5,
      "outputs": [
        {
          "output_type": "execute_result",
          "data": {
            "text/plain": [
              "(212, 12)"
            ]
          },
          "metadata": {},
          "execution_count": 5
        }
      ]
    },
    {
      "cell_type": "markdown",
      "metadata": {
        "id": "CRzG77tQStY2"
      },
      "source": [
        "## **Step 4 - Check the details of the dataset**"
      ]
    },
    {
      "cell_type": "code",
      "metadata": {
        "colab": {
          "base_uri": "https://localhost:8080/"
        },
        "id": "LdJKVFL-S1Wx",
        "outputId": "4db56990-9236-4b11-bb8e-03ea7521d277"
      },
      "source": [
        "# check detailed info of dataset\n",
        "df.info()"
      ],
      "execution_count": 6,
      "outputs": [
        {
          "output_type": "stream",
          "name": "stdout",
          "text": [
            "<class 'pandas.core.frame.DataFrame'>\n",
            "RangeIndex: 212 entries, 0 to 211\n",
            "Data columns (total 12 columns):\n",
            " #   Column        Non-Null Count  Dtype \n",
            "---  ------        --------------  ----- \n",
            " 0   show_id       212 non-null    object\n",
            " 1   type          212 non-null    object\n",
            " 2   title         212 non-null    object\n",
            " 3   director      212 non-null    object\n",
            " 4   cast          212 non-null    object\n",
            " 5   country       212 non-null    object\n",
            " 6   date_added    212 non-null    object\n",
            " 7   release_year  212 non-null    int64 \n",
            " 8   rating        212 non-null    object\n",
            " 9   duration      212 non-null    object\n",
            " 10  listed_in     212 non-null    object\n",
            " 11  description   212 non-null    object\n",
            "dtypes: int64(1), object(11)\n",
            "memory usage: 20.0+ KB\n"
          ]
        }
      ]
    },
    {
      "cell_type": "code",
      "source": [],
      "metadata": {
        "id": "bOMd3tjxu3aO"
      },
      "execution_count": null,
      "outputs": []
    },
    {
      "cell_type": "markdown",
      "metadata": {
        "id": "OSybExm5S-yD"
      },
      "source": [
        "## **Step 4 - Data Visualization**"
      ]
    },
    {
      "cell_type": "markdown",
      "metadata": {
        "id": "D9bXPogIGqam"
      },
      "source": [
        "## **1. How many movies and TV shows are there in this dataset?**"
      ]
    },
    {
      "cell_type": "markdown",
      "metadata": {
        "id": "PYNli5HpbgS0"
      },
      "source": [
        "# **Code Explanation**\n",
        "\n",
        "***1. Searching for the target coloumn(NOTE- Here it is the \"type\" coloumn).***\n",
        "\n",
        "***2. Plotting a count plot for the target coloumn.*** "
      ]
    },
    {
      "cell_type": "code",
      "metadata": {
        "colab": {
          "base_uri": "https://localhost:8080/",
          "height": 285
        },
        "id": "UuyeKvJ16s-S",
        "outputId": "039044b0-06b9-4994-a370-c339ab967074"
      },
      "source": [
        "# Setting the theme to darkgrid using Seaborn\n",
        "sns.set(style=\"darkgrid\")\n",
        "\n",
        "# Plotting the count plot for the target coloumn \"type\" to get the data\n",
        "ax = sns.countplot(x=\"type\", data=df, palette=\"Set2\")"
      ],
      "execution_count": 7,
      "outputs": [
        {
          "output_type": "display_data",
          "data": {
            "text/plain": [
              "<Figure size 432x288 with 1 Axes>"
            ],
            "image/png": "[encoded data removed]"
          },
          "metadata": {}
        }
      ]
    },
    {
      "cell_type": "markdown",
      "metadata": {
        "id": "VddnnvBWG1Br"
      },
      "source": [
        "#Observations:\n",
        "\n",
        "It is evident that there are more Movies on Netflix than TV shows in accordence to the above visualization\n",
        "\n",
        "\n"
      ]
    },
    {
      "cell_type": "code",
      "source": [],
      "metadata": {
        "id": "vL0rWJlSv2mh"
      },
      "execution_count": 13,
      "outputs": []
    },
    {
      "cell_type": "markdown",
      "metadata": {
        "id": "1BDXJQZ8HD_A"
      },
      "source": [
        "### **2. Analyze what rating shows are the highest and the lowest in Netflix?**"
      ]
    },
    {
      "cell_type": "code",
      "metadata": {
        "colab": {
          "base_uri": "https://localhost:8080/",
          "height": 611
        },
        "id": "NvBPkN-W6ywd",
        "outputId": "cb21c922-117b-4bf7-b921-56bbc5cfe539"
      },
      "source": [
        "# Movie ratings analysis\n",
        "# setting figure size\n",
        "plt.figure(figsize=(12,10))\n",
        "\n",
        "# Setting the theme to darkgrid using Seaborn\n",
        "sns.set(style=\"darkgrid\")\n",
        "\n",
        "# Counting the number of realeses from .value_count() in the ratings coloumn\n",
        "ax = sns.countplot(x=\"rating\", data=df, palette=\"Set2\", order=df['rating'].value_counts().index[0:15])"
      ],
      "execution_count": 8,
      "outputs": [
        {
          "output_type": "display_data",
          "data": {
            "text/plain": [
              "<Figure size 864x720 with 1 Axes>"
            ],
            "image/png": "[encoded data removed]"
          },
          "metadata": {}
        }
      ]
    },
    {
      "cell_type": "markdown",
      "metadata": {
        "id": "O4N_CqLuHLk4"
      },
      "source": [
        "#Observations: \n",
        "\n",
        "1. The largest count of movies are made with the 'TV-MA' rating i.e. unsuitable for children under 17.\n",
        "2. Second largest is the 'TV-14' stands for content that may be inappropriate for children younger than 14 years of age.*\n",
        "3. Lowest number is for 'G' rating i.e. Appropriate for people of all ages."
      ]
    },
    {
      "cell_type": "code",
      "source": [],
      "metadata": {
        "id": "DDTC2jQfwQN-"
      },
      "execution_count": null,
      "outputs": []
    },
    {
      "cell_type": "markdown",
      "metadata": {
        "id": "TRzFmN5SIdUp"
      },
      "source": [
        "### **3. Check the number of releases year-wise**"
      ]
    },
    {
      "cell_type": "code",
      "metadata": {
        "id": "N1xxx78Q_ucY",
        "colab": {
          "base_uri": "https://localhost:8080/",
          "height": 611
        },
        "outputId": "d7bf3025-da83-4737-b18f-09551a9505f7"
      },
      "source": [
        "# setting figure size\n",
        "plt.figure(figsize=(12,10))\n",
        "\n",
        "# Setting the theme to darkgrid using Seaborn\n",
        "sns.set(style=\"darkgrid\")\n",
        "\n",
        "# Counting the number of realeses from .value_count() in the release_year\n",
        "ax = sns.countplot(y=\"release_year\", data=df, palette=\"Set2\", order=df['release_year'].value_counts().index[0:15])"
      ],
      "execution_count": 9,
      "outputs": [
        {
          "output_type": "display_data",
          "data": {
            "text/plain": [
              "<Figure size 864x720 with 1 Axes>"
            ],
            "image/png": "[encoded data removed]"
          },
          "metadata": {}
        }
      ]
    },
    {
      "cell_type": "markdown",
      "source": [
        "#### It is evident that most of the movies & series are from 2021 according to the above visualization\n",
        "\n",
        "\n"
      ],
      "metadata": {
        "id": "hjvC9AsIvnLW"
      }
    },
    {
      "cell_type": "code",
      "source": [],
      "metadata": {
        "id": "sHofcdZUwpUy"
      },
      "execution_count": null,
      "outputs": []
    },
    {
      "cell_type": "markdown",
      "metadata": {
        "id": "s32ZS3mQItG4"
      },
      "source": [
        "#**Conclusion:**\n",
        "\n",
        "In 2021, 30+ movies and TV shows were released. This makes it evident how enormously the audience and demand of over the top (OTT) platforms has increased during the pandemic."
      ]
    },
    {
      "cell_type": "code",
      "metadata": {
        "id": "haOJ_jOjIylW"
      },
      "source": [],
      "execution_count": 9,
      "outputs": []
    }
  ]
}